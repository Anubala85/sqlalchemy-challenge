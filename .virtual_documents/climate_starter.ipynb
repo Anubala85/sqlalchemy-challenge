%matplotlib inline
from matplotlib import style
style.use('fivethirtyeight')
import matplotlib.pyplot as plt


import numpy as np
import pandas as pd
import datetime as dt





# Python SQL toolkit and Object Relational Mapper
import sqlalchemy
from sqlalchemy.ext.automap import automap_base
from sqlalchemy.orm import Session
from sqlalchemy import create_engine, func


# create engine to hawaii.sqlite
engine = create_engine("sqlite:///Resources/hawaii.sqlite")


# reflect an existing database into a new model
Base = automap_base()
# reflect the tables
Base.prepare(autoload_with=engine)


# View all of the classes that automap found
Base.classes.keys()


# Save references to each table
Station = Base.classes.station
Measurement = Base.classes.measurement


# Create our session (link) from Python to the DB
session = Session (engine)





# Find the most recent date in the data set.
most_recent_date_str = session.query (Measurement.date).order_by(Measurement.date.desc()).first()
most_recent_date_str


# Design a query to retrieve the last 12 months of precipitation data and plot the results. 
# Starting from the most recent data point in the database. 
end_date = dt.datetime.strptime (most_recent_date_str[0], '%Y-%m-%d')

# Calculate the date one year from the last date in data set.
start_date = end_date - dt.timedelta (days = 366)
#start_date.strftime ('%Y-%m-%d')

# Perform a query to retrieve the data and precipitation scores
from sqlalchemy import and_
prcp_scores = session.query (Measurement.date, Measurement.prcp).\
    filter (and_
            (Measurement.date >= start_date,
             Measurement.date <= end_date)
           )

# Save the query results as a Pandas DataFrame. Explicitly set the column names
prcp_scores_df = pd.DataFrame (prcp_scores, columns =['Date', 'Precipitation']) 

# Sort the dataframe by date
prcp_scores_df.sort_values (by = 'Date', inplace = True)
#prcp_scores_df
# Use Pandas Plotting with Matplotlib to plot the data
#prcp_scores_df.set_index ('Precipitation', inplace = True)
prcp_scores_df.plot (x = 'Date', y = 'Precipitation')
plt.tight_layout()
plt.xticks (rotation = 90)
plt.ylabel ("Inches")
plt.show()


# Use Pandas to calculate the summary statistics for the precipitation data
summary_stats = pd.DataFrame (prcp_scores_df['Precipitation'].describe())
summary_stats





# Design a query to calculate the total number of stations in the dataset
station_count = session.query (func.count(Station.station)).all()
station_count


# Design a query to find the most active stations (i.e. which stations have the most rows?)
# List the stations and their counts in descending order.
from sqlalchemy import desc
active_stations = session.query (Measurement.station, func.count(Measurement.station).label('row_count')).\
                    group_by(Measurement.station).order_by (desc ("row_count")).all()
active_stations


# Using the most active station id from the previous query, calculate the lowest, highest, and average temperature.
most_active_station = active_stations[0][0]
session.query (func.min (Measurement.tobs), func.max (Measurement.tobs), func.avg (Measurement.tobs)).\
  filter (Measurement.station == most_active_station).all()  


# Using the most active station id
# Query the last 12 months of temperature observation data for this station and plot the results as a histogram
most_recent_date_temp_str = session.query (Measurement.date).order_by(Measurement.date.desc()).first()
end_date = dt.datetime.strptime (most_recent_date_temp_str[0], '%Y-%m-%d')
start_date = end_date - dt.timedelta (days = 366)
start_date
most_active_station_temp = session.query (Measurement.tobs).\
    filter (Measurement.station == most_active_station).\
    filter (Measurement.date >= start_date).\
    filter (Measurement.date <= end_date).all()

most_active_station_temp_df = pd.DataFrame (most_active_station_temp, columns =['Temperature'])
plt.hist (most_active_station_temp_df, bins = 12)
plt.tight_layout()
plt.xlabel ("Temperature")
plt.ylabel ("Frequency")
plt.legend (["tobs"], loc="upper right")
plt.show()






# Close Session
session.close()



